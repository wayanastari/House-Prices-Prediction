{
 "cells": [
  {
   "cell_type": "code",
   "execution_count": 1,
   "id": "95608b4b",
   "metadata": {
    "_cell_guid": "b1076dfc-b9ad-4769-8c92-a6c4dae69d19",
    "_uuid": "8f2839f25d086af736a60e9eeb907d3b93b6e0e5",
    "execution": {
     "iopub.execute_input": "2025-08-09T02:45:31.052530Z",
     "iopub.status.busy": "2025-08-09T02:45:31.052138Z",
     "iopub.status.idle": "2025-08-09T02:45:42.897925Z",
     "shell.execute_reply": "2025-08-09T02:45:42.896603Z"
    },
    "papermill": {
     "duration": 11.853891,
     "end_time": "2025-08-09T02:45:42.900295",
     "exception": false,
     "start_time": "2025-08-09T02:45:31.046404",
     "status": "completed"
    },
    "tags": []
   },
   "outputs": [],
   "source": [
    "#Import Library\n",
    "import pandas as pd\n",
    "import numpy as np\n",
    "\n",
    "# Model & tools\n",
    "from sklearn.model_selection import train_test_split\n",
    "from sklearn.linear_model import Ridge\n",
    "from sklearn.ensemble import StackingRegressor\n",
    "from xgboost import XGBRegressor\n",
    "from lightgbm import LGBMRegressor\n",
    "from sklearn.pipeline import Pipeline\n",
    "from sklearn.preprocessing import StandardScaler\n",
    "from sklearn.metrics import mean_squared_error, r2_score"
   ]
  },
  {
   "cell_type": "code",
   "execution_count": 2,
   "id": "bb177549",
   "metadata": {
    "execution": {
     "iopub.execute_input": "2025-08-09T02:45:42.909002Z",
     "iopub.status.busy": "2025-08-09T02:45:42.908304Z",
     "iopub.status.idle": "2025-08-09T02:45:42.983876Z",
     "shell.execute_reply": "2025-08-09T02:45:42.982481Z"
    },
    "papermill": {
     "duration": 0.081866,
     "end_time": "2025-08-09T02:45:42.985853",
     "exception": false,
     "start_time": "2025-08-09T02:45:42.903987",
     "status": "completed"
    },
    "tags": []
   },
   "outputs": [
    {
     "name": "stdout",
     "output_type": "stream",
     "text": [
      "(1460, 81) (1459, 80)\n"
     ]
    }
   ],
   "source": [
    "# Load data train & test\n",
    "train = pd.read_csv(\"/kaggle/input/house-prices-advanced-regression-techniques/train.csv\")\n",
    "test = pd.read_csv(\"/kaggle/input/house-prices-advanced-regression-techniques/test.csv\")\n",
    "\n",
    "print(train.shape, test.shape)"
   ]
  },
  {
   "cell_type": "markdown",
   "id": "85710e63",
   "metadata": {
    "papermill": {
     "duration": 0.002853,
     "end_time": "2025-08-09T02:45:42.991931",
     "exception": false,
     "start_time": "2025-08-09T02:45:42.989078",
     "status": "completed"
    },
    "tags": []
   },
   "source": [
    "# **Feature Engineering**"
   ]
  },
  {
   "cell_type": "code",
   "execution_count": 3,
   "id": "5913c776",
   "metadata": {
    "execution": {
     "iopub.execute_input": "2025-08-09T02:45:42.999236Z",
     "iopub.status.busy": "2025-08-09T02:45:42.998855Z",
     "iopub.status.idle": "2025-08-09T02:45:43.136419Z",
     "shell.execute_reply": "2025-08-09T02:45:43.135450Z"
    },
    "papermill": {
     "duration": 0.14342,
     "end_time": "2025-08-09T02:45:43.138311",
     "exception": false,
     "start_time": "2025-08-09T02:45:42.994891",
     "status": "completed"
    },
    "tags": []
   },
   "outputs": [],
   "source": [
    "test_ID = test[\"Id\"] #save Id for submission\n",
    "all_data = pd.concat([train.drop(\"SalePrice\", axis=1), test], axis=0) \n",
    "all_data.columns = all_data.columns.str.replace(\" \", \"_\")\n",
    "all_data = pd.get_dummies(all_data) #one-hot encoding\n",
    "all_data = all_data.fillna(all_data.median()) #Fill in missing values with median\n",
    "X = all_data[:train.shape[0]]\n",
    "X_test_final = all_data[train.shape[0]:]\n",
    "y = np.log1p(train[\"SalePrice\"]) # Log-transform target"
   ]
  },
  {
   "cell_type": "markdown",
   "id": "d0e0b908",
   "metadata": {
    "papermill": {
     "duration": 0.002661,
     "end_time": "2025-08-09T02:45:43.144126",
     "exception": false,
     "start_time": "2025-08-09T02:45:43.141465",
     "status": "completed"
    },
    "tags": []
   },
   "source": [
    "# **Split Train/Validation**"
   ]
  },
  {
   "cell_type": "code",
   "execution_count": 4,
   "id": "395af19d",
   "metadata": {
    "execution": {
     "iopub.execute_input": "2025-08-09T02:45:43.151507Z",
     "iopub.status.busy": "2025-08-09T02:45:43.151142Z",
     "iopub.status.idle": "2025-08-09T02:45:43.174593Z",
     "shell.execute_reply": "2025-08-09T02:45:43.173555Z"
    },
    "papermill": {
     "duration": 0.029569,
     "end_time": "2025-08-09T02:45:43.176764",
     "exception": false,
     "start_time": "2025-08-09T02:45:43.147195",
     "status": "completed"
    },
    "tags": []
   },
   "outputs": [],
   "source": [
    "X_train, X_val, y_train, y_val = train_test_split(\n",
    "    X, y, test_size=0.2, random_state=42\n",
    ")"
   ]
  },
  {
   "cell_type": "markdown",
   "id": "8c6d47ff",
   "metadata": {
    "papermill": {
     "duration": 0.002873,
     "end_time": "2025-08-09T02:45:43.183101",
     "exception": false,
     "start_time": "2025-08-09T02:45:43.180228",
     "status": "completed"
    },
    "tags": []
   },
   "source": [
    "# **Baseline Model**"
   ]
  },
  {
   "cell_type": "code",
   "execution_count": 5,
   "id": "e256fecc",
   "metadata": {
    "execution": {
     "iopub.execute_input": "2025-08-09T02:45:43.191442Z",
     "iopub.status.busy": "2025-08-09T02:45:43.191051Z",
     "iopub.status.idle": "2025-08-09T02:45:43.198511Z",
     "shell.execute_reply": "2025-08-09T02:45:43.197529Z"
    },
    "papermill": {
     "duration": 0.014253,
     "end_time": "2025-08-09T02:45:43.200543",
     "exception": false,
     "start_time": "2025-08-09T02:45:43.186290",
     "status": "completed"
    },
    "tags": []
   },
   "outputs": [],
   "source": [
    "ridge = Ridge(alpha=10)\n",
    "\n",
    "#XGBRegressor\n",
    "xgb = XGBRegressor(\n",
    "    n_estimators=1000, learning_rate=0.05, max_depth=4,\n",
    "    subsample=0.8, colsample_bytree=0.8, random_state=42,verbosity=0 \n",
    ")\n",
    "\n",
    "#LGBMRegressor\n",
    "X.columns = X.columns.str.replace(' ', '_')\n",
    "lgbm = LGBMRegressor(\n",
    "    n_estimators=1000,\n",
    "    learning_rate=0.05,\n",
    "    num_leaves=31,                  \n",
    "    min_data_in_leaf=5,\n",
    "    min_gain_to_split=0.0,\n",
    "    feature_fraction=0.9,\n",
    "    bagging_fraction=0.9,\n",
    "    bagging_freq=1,\n",
    "    lambda_l1=0.1,                   \n",
    "    lambda_l2=0.1,\n",
    "    force_row_wise=True,            \n",
    "    random_state=42,\n",
    "    verbose=-1 \n",
    ")"
   ]
  },
  {
   "cell_type": "markdown",
   "id": "cf7f0a06",
   "metadata": {
    "papermill": {
     "duration": 0.003152,
     "end_time": "2025-08-09T02:45:43.207500",
     "exception": false,
     "start_time": "2025-08-09T02:45:43.204348",
     "status": "completed"
    },
    "tags": []
   },
   "source": [
    "# **Make Stacking Regressor**"
   ]
  },
  {
   "cell_type": "code",
   "execution_count": 6,
   "id": "548bedf4",
   "metadata": {
    "execution": {
     "iopub.execute_input": "2025-08-09T02:45:43.215497Z",
     "iopub.status.busy": "2025-08-09T02:45:43.215114Z",
     "iopub.status.idle": "2025-08-09T02:46:12.129577Z",
     "shell.execute_reply": "2025-08-09T02:46:12.126665Z"
    },
    "papermill": {
     "duration": 28.924412,
     "end_time": "2025-08-09T02:46:12.135278",
     "exception": false,
     "start_time": "2025-08-09T02:45:43.210866",
     "status": "completed"
    },
    "tags": []
   },
   "outputs": [
    {
     "name": "stdout",
     "output_type": "stream",
     "text": [
      "Stacking R^2 (Validation): 0.9115\n"
     ]
    }
   ],
   "source": [
    "ridge_pipe = Pipeline([\n",
    "    ('scaler', StandardScaler()),\n",
    "    ('ridge', Ridge(alpha=10))\n",
    "])\n",
    "\n",
    "stack_model = StackingRegressor(\n",
    "    estimators=[\n",
    "        ('ridge', ridge_pipe),\n",
    "        ('xgb', xgb),\n",
    "        ('lgbm', lgbm)\n",
    "    ],\n",
    "    final_estimator=Ridge(alpha=1),\n",
    "    cv=5,\n",
    "    passthrough=False  \n",
    ")\n",
    "\n",
    "stack_model.fit(X_train, y_train)\n",
    "val_score = stack_model.score(X_val, y_val)\n",
    "print(f\"Stacking R^2 (Validation): {val_score:.4f}\")"
   ]
  },
  {
   "cell_type": "markdown",
   "id": "958197e7",
   "metadata": {
    "papermill": {
     "duration": 0.005787,
     "end_time": "2025-08-09T02:46:12.145353",
     "exception": false,
     "start_time": "2025-08-09T02:46:12.139566",
     "status": "completed"
    },
    "tags": []
   },
   "source": [
    "# **Evaluation**"
   ]
  },
  {
   "cell_type": "code",
   "execution_count": 7,
   "id": "f8835cfc",
   "metadata": {
    "execution": {
     "iopub.execute_input": "2025-08-09T02:46:12.161635Z",
     "iopub.status.busy": "2025-08-09T02:46:12.160869Z",
     "iopub.status.idle": "2025-08-09T02:46:12.277497Z",
     "shell.execute_reply": "2025-08-09T02:46:12.276071Z"
    },
    "papermill": {
     "duration": 0.125681,
     "end_time": "2025-08-09T02:46:12.279325",
     "exception": false,
     "start_time": "2025-08-09T02:46:12.153644",
     "status": "completed"
    },
    "tags": []
   },
   "outputs": [
    {
     "name": "stdout",
     "output_type": "stream",
     "text": [
      "R²: 0.9115\n",
      "RMSE: 0.1285\n"
     ]
    }
   ],
   "source": [
    "y_pred = stack_model.predict(X_val)\n",
    "df_eval = pd.DataFrame({\n",
    "    'Actual': y_val,\n",
    "    'Predicted': y_pred\n",
    "})\n",
    "df_eval['Error'] = df_eval['Actual'] - df_eval['Predicted']\n",
    "df_eval['Error_Percent'] = (df_eval['Error'] / df_eval['Actual']) * 100\n",
    "r2 = r2_score(y_val, y_pred)\n",
    "rmse = mean_squared_error(y_val, y_pred, squared=False)\n",
    "print(f\"R²: {r2:.4f}\")\n",
    "print(f\"RMSE: {rmse:.4f}\")"
   ]
  },
  {
   "cell_type": "markdown",
   "id": "a394194c",
   "metadata": {
    "papermill": {
     "duration": 0.003156,
     "end_time": "2025-08-09T02:46:12.287352",
     "exception": false,
     "start_time": "2025-08-09T02:46:12.284196",
     "status": "completed"
    },
    "tags": []
   },
   "source": [
    "# **Prediction on test set**"
   ]
  },
  {
   "cell_type": "code",
   "execution_count": 8,
   "id": "407053db",
   "metadata": {
    "execution": {
     "iopub.execute_input": "2025-08-09T02:46:12.296145Z",
     "iopub.status.busy": "2025-08-09T02:46:12.295751Z",
     "iopub.status.idle": "2025-08-09T02:46:12.533998Z",
     "shell.execute_reply": "2025-08-09T02:46:12.532712Z"
    },
    "papermill": {
     "duration": 0.245412,
     "end_time": "2025-08-09T02:46:12.536308",
     "exception": false,
     "start_time": "2025-08-09T02:46:12.290896",
     "status": "completed"
    },
    "tags": []
   },
   "outputs": [
    {
     "name": "stdout",
     "output_type": "stream",
     "text": [
      "Submission file saved as submission.csv\n"
     ]
    }
   ],
   "source": [
    "#Prediction on Test Set\n",
    "preds = stack_model.predict(X_test_final)\n",
    "preds = np.expm1(preds)\n",
    "\n",
    "#create submission file\n",
    "submission = pd.DataFrame({\n",
    "    \"Id\": test_ID,\n",
    "    \"SalePrice\": preds\n",
    "})\n",
    "\n",
    "submission.to_csv(\"submission.csv\", index=False)\n",
    "print(\"Submission file saved as submission.csv\")"
   ]
  }
 ],
 "metadata": {
  "kaggle": {
   "accelerator": "none",
   "dataSources": [
    {
     "databundleVersionId": 868283,
     "sourceId": 5407,
     "sourceType": "competition"
    }
   ],
   "dockerImageVersionId": 31089,
   "isGpuEnabled": false,
   "isInternetEnabled": false,
   "language": "python",
   "sourceType": "notebook"
  },
  "kernelspec": {
   "display_name": "Python 3",
   "language": "python",
   "name": "python3"
  },
  "language_info": {
   "codemirror_mode": {
    "name": "ipython",
    "version": 3
   },
   "file_extension": ".py",
   "mimetype": "text/x-python",
   "name": "python",
   "nbconvert_exporter": "python",
   "pygments_lexer": "ipython3",
   "version": "3.11.13"
  },
  "papermill": {
   "default_parameters": {},
   "duration": 48.542309,
   "end_time": "2025-08-09T02:46:13.865741",
   "environment_variables": {},
   "exception": null,
   "input_path": "__notebook__.ipynb",
   "output_path": "__notebook__.ipynb",
   "parameters": {},
   "start_time": "2025-08-09T02:45:25.323432",
   "version": "2.6.0"
  }
 },
 "nbformat": 4,
 "nbformat_minor": 5
}
